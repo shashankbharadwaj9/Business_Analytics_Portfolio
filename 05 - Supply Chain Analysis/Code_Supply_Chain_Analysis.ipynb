{
 "cells": [
  {
   "cell_type": "markdown",
   "id": "2aa7be3c",
   "metadata": {},
   "source": [
    "## TASK 1: Data Cleaning and Exploration."
   ]
  },
  {
   "cell_type": "code",
   "execution_count": 13,
   "id": "f3d7f89f",
   "metadata": {},
   "outputs": [
    {
     "data": {
      "text/html": [
       "<div>\n",
       "<style scoped>\n",
       "    .dataframe tbody tr th:only-of-type {\n",
       "        vertical-align: middle;\n",
       "    }\n",
       "\n",
       "    .dataframe tbody tr th {\n",
       "        vertical-align: top;\n",
       "    }\n",
       "\n",
       "    .dataframe thead th {\n",
       "        text-align: right;\n",
       "    }\n",
       "</style>\n",
       "<table border=\"1\" class=\"dataframe\">\n",
       "  <thead>\n",
       "    <tr style=\"text-align: right;\">\n",
       "      <th></th>\n",
       "      <th>Product_ID</th>\n",
       "      <th>Category</th>\n",
       "      <th>Supplier</th>\n",
       "      <th>Warehouse_Location</th>\n",
       "      <th>Order_Date</th>\n",
       "      <th>Delivery_Date</th>\n",
       "      <th>Inventory_Level</th>\n",
       "      <th>Stockouts</th>\n",
       "      <th>Unit_Cost</th>\n",
       "      <th>Lead_Time</th>\n",
       "    </tr>\n",
       "  </thead>\n",
       "  <tbody>\n",
       "    <tr>\n",
       "      <th>0</th>\n",
       "      <td>P0001</td>\n",
       "      <td>Toys</td>\n",
       "      <td>Supplier B</td>\n",
       "      <td>Chicago</td>\n",
       "      <td>2025-02-23</td>\n",
       "      <td>2025-03-01</td>\n",
       "      <td>15</td>\n",
       "      <td>0</td>\n",
       "      <td>446.20</td>\n",
       "      <td>6</td>\n",
       "    </tr>\n",
       "    <tr>\n",
       "      <th>1</th>\n",
       "      <td>P0002</td>\n",
       "      <td>Furniture</td>\n",
       "      <td>Supplier C</td>\n",
       "      <td>San Francisco</td>\n",
       "      <td>2025-02-25</td>\n",
       "      <td>2025-03-15</td>\n",
       "      <td>138</td>\n",
       "      <td>0</td>\n",
       "      <td>208.02</td>\n",
       "      <td>18</td>\n",
       "    </tr>\n",
       "    <tr>\n",
       "      <th>2</th>\n",
       "      <td>P0003</td>\n",
       "      <td>Furniture</td>\n",
       "      <td>Supplier B</td>\n",
       "      <td>Chicago</td>\n",
       "      <td>2025-01-22</td>\n",
       "      <td>2025-02-08</td>\n",
       "      <td>270</td>\n",
       "      <td>0</td>\n",
       "      <td>423.75</td>\n",
       "      <td>14</td>\n",
       "    </tr>\n",
       "    <tr>\n",
       "      <th>3</th>\n",
       "      <td>P0004</td>\n",
       "      <td>Toys</td>\n",
       "      <td>Supplier D</td>\n",
       "      <td>Chicago</td>\n",
       "      <td>2025-01-29</td>\n",
       "      <td>2025-02-06</td>\n",
       "      <td>151</td>\n",
       "      <td>0</td>\n",
       "      <td>123.17</td>\n",
       "      <td>8</td>\n",
       "    </tr>\n",
       "    <tr>\n",
       "      <th>4</th>\n",
       "      <td>P0005</td>\n",
       "      <td>Food</td>\n",
       "      <td>Supplier A</td>\n",
       "      <td>Dallas</td>\n",
       "      <td>2025-03-10</td>\n",
       "      <td>2025-03-24</td>\n",
       "      <td>237</td>\n",
       "      <td>1</td>\n",
       "      <td>462.93</td>\n",
       "      <td>14</td>\n",
       "    </tr>\n",
       "  </tbody>\n",
       "</table>\n",
       "</div>"
      ],
      "text/plain": [
       "  Product_ID   Category    Supplier Warehouse_Location  Order_Date  \\\n",
       "0      P0001       Toys  Supplier B            Chicago  2025-02-23   \n",
       "1      P0002  Furniture  Supplier C      San Francisco  2025-02-25   \n",
       "2      P0003  Furniture  Supplier B            Chicago  2025-01-22   \n",
       "3      P0004       Toys  Supplier D            Chicago  2025-01-29   \n",
       "4      P0005       Food  Supplier A             Dallas  2025-03-10   \n",
       "\n",
       "  Delivery_Date  Inventory_Level  Stockouts  Unit_Cost  Lead_Time  \n",
       "0    2025-03-01               15          0     446.20          6  \n",
       "1    2025-03-15              138          0     208.02         18  \n",
       "2    2025-02-08              270          0     423.75         14  \n",
       "3    2025-02-06              151          0     123.17          8  \n",
       "4    2025-03-24              237          1     462.93         14  "
      ]
     },
     "execution_count": 13,
     "metadata": {},
     "output_type": "execute_result"
    }
   ],
   "source": [
    "#Importing Data from CSV file..\n",
    "import pandas as pd\n",
    "df = pd.read_csv('dataset for Data Analyst I Assessment.csv')\n",
    "df.head() "
   ]
  },
  {
   "cell_type": "code",
   "execution_count": 15,
   "id": "a597b47e",
   "metadata": {},
   "outputs": [
    {
     "name": "stdout",
     "output_type": "stream",
     "text": [
      "<class 'pandas.core.frame.DataFrame'>\n",
      "RangeIndex: 250 entries, 0 to 249\n",
      "Data columns (total 10 columns):\n",
      " #   Column              Non-Null Count  Dtype  \n",
      "---  ------              --------------  -----  \n",
      " 0   Product_ID          250 non-null    object \n",
      " 1   Category            250 non-null    object \n",
      " 2   Supplier            250 non-null    object \n",
      " 3   Warehouse_Location  250 non-null    object \n",
      " 4   Order_Date          250 non-null    object \n",
      " 5   Delivery_Date       250 non-null    object \n",
      " 6   Inventory_Level     250 non-null    int64  \n",
      " 7   Stockouts           250 non-null    int64  \n",
      " 8   Unit_Cost           250 non-null    float64\n",
      " 9   Lead_Time           250 non-null    int64  \n",
      "dtypes: float64(1), int64(3), object(6)\n",
      "memory usage: 19.7+ KB\n"
     ]
    },
    {
     "data": {
      "text/html": [
       "<div>\n",
       "<style scoped>\n",
       "    .dataframe tbody tr th:only-of-type {\n",
       "        vertical-align: middle;\n",
       "    }\n",
       "\n",
       "    .dataframe tbody tr th {\n",
       "        vertical-align: top;\n",
       "    }\n",
       "\n",
       "    .dataframe thead th {\n",
       "        text-align: right;\n",
       "    }\n",
       "</style>\n",
       "<table border=\"1\" class=\"dataframe\">\n",
       "  <thead>\n",
       "    <tr style=\"text-align: right;\">\n",
       "      <th></th>\n",
       "      <th>Inventory_Level</th>\n",
       "      <th>Stockouts</th>\n",
       "      <th>Unit_Cost</th>\n",
       "      <th>Lead_Time</th>\n",
       "    </tr>\n",
       "  </thead>\n",
       "  <tbody>\n",
       "    <tr>\n",
       "      <th>count</th>\n",
       "      <td>250.000000</td>\n",
       "      <td>250.000000</td>\n",
       "      <td>250.000000</td>\n",
       "      <td>250.0000</td>\n",
       "    </tr>\n",
       "    <tr>\n",
       "      <th>mean</th>\n",
       "      <td>256.348000</td>\n",
       "      <td>0.188000</td>\n",
       "      <td>247.996080</td>\n",
       "      <td>10.0000</td>\n",
       "    </tr>\n",
       "    <tr>\n",
       "      <th>std</th>\n",
       "      <td>138.852392</td>\n",
       "      <td>0.391496</td>\n",
       "      <td>138.993919</td>\n",
       "      <td>5.0785</td>\n",
       "    </tr>\n",
       "    <tr>\n",
       "      <th>min</th>\n",
       "      <td>1.000000</td>\n",
       "      <td>0.000000</td>\n",
       "      <td>5.570000</td>\n",
       "      <td>1.0000</td>\n",
       "    </tr>\n",
       "    <tr>\n",
       "      <th>25%</th>\n",
       "      <td>149.000000</td>\n",
       "      <td>0.000000</td>\n",
       "      <td>126.965000</td>\n",
       "      <td>6.0000</td>\n",
       "    </tr>\n",
       "    <tr>\n",
       "      <th>50%</th>\n",
       "      <td>268.000000</td>\n",
       "      <td>0.000000</td>\n",
       "      <td>247.265000</td>\n",
       "      <td>10.0000</td>\n",
       "    </tr>\n",
       "    <tr>\n",
       "      <th>75%</th>\n",
       "      <td>373.750000</td>\n",
       "      <td>0.000000</td>\n",
       "      <td>377.477500</td>\n",
       "      <td>14.0000</td>\n",
       "    </tr>\n",
       "    <tr>\n",
       "      <th>max</th>\n",
       "      <td>499.000000</td>\n",
       "      <td>1.000000</td>\n",
       "      <td>493.750000</td>\n",
       "      <td>19.0000</td>\n",
       "    </tr>\n",
       "  </tbody>\n",
       "</table>\n",
       "</div>"
      ],
      "text/plain": [
       "       Inventory_Level   Stockouts   Unit_Cost  Lead_Time\n",
       "count       250.000000  250.000000  250.000000   250.0000\n",
       "mean        256.348000    0.188000  247.996080    10.0000\n",
       "std         138.852392    0.391496  138.993919     5.0785\n",
       "min           1.000000    0.000000    5.570000     1.0000\n",
       "25%         149.000000    0.000000  126.965000     6.0000\n",
       "50%         268.000000    0.000000  247.265000    10.0000\n",
       "75%         373.750000    0.000000  377.477500    14.0000\n",
       "max         499.000000    1.000000  493.750000    19.0000"
      ]
     },
     "execution_count": 15,
     "metadata": {},
     "output_type": "execute_result"
    }
   ],
   "source": [
    "## getting summary of the dataset\n",
    "df.info()\n",
    "df.describe()"
   ]
  },
  {
   "cell_type": "code",
   "execution_count": 25,
   "id": "2af67547",
   "metadata": {},
   "outputs": [],
   "source": [
    "# Converting Order_Date and Delivery_Date to datetime\n",
    "df['Order_Date'] = pd.to_datetime(df['Order_Date'])\n",
    "df['Delivery_Date'] = pd.to_datetime(df['Delivery_Date'])"
   ]
  },
  {
   "cell_type": "code",
   "execution_count": 23,
   "id": "9d705296",
   "metadata": {},
   "outputs": [
    {
     "name": "stdout",
     "output_type": "stream",
     "text": [
      "<class 'pandas.core.frame.DataFrame'>\n",
      "RangeIndex: 250 entries, 0 to 249\n",
      "Data columns (total 10 columns):\n",
      " #   Column              Non-Null Count  Dtype         \n",
      "---  ------              --------------  -----         \n",
      " 0   Product_ID          250 non-null    object        \n",
      " 1   Category            250 non-null    object        \n",
      " 2   Supplier            250 non-null    object        \n",
      " 3   Warehouse_Location  250 non-null    object        \n",
      " 4   Order_Date          250 non-null    datetime64[ns]\n",
      " 5   Delivery_Date       250 non-null    datetime64[ns]\n",
      " 6   Inventory_Level     250 non-null    int64         \n",
      " 7   Stockouts           250 non-null    int64         \n",
      " 8   Unit_Cost           250 non-null    float64       \n",
      " 9   Lead_Time           250 non-null    int64         \n",
      "dtypes: datetime64[ns](2), float64(1), int64(3), object(4)\n",
      "memory usage: 19.7+ KB\n"
     ]
    }
   ],
   "source": [
    "df.info()"
   ]
  },
  {
   "cell_type": "code",
   "execution_count": 16,
   "id": "fee72c55",
   "metadata": {},
   "outputs": [
    {
     "data": {
      "text/plain": [
       "Product_ID            0\n",
       "Category              0\n",
       "Supplier              0\n",
       "Warehouse_Location    0\n",
       "Order_Date            0\n",
       "Delivery_Date         0\n",
       "Inventory_Level       0\n",
       "Stockouts             0\n",
       "Unit_Cost             0\n",
       "Lead_Time             0\n",
       "dtype: int64"
      ]
     },
     "execution_count": 16,
     "metadata": {},
     "output_type": "execute_result"
    }
   ],
   "source": [
    "#Looking for NULL values in the dataset\n",
    "df.isnull().sum()"
   ]
  },
  {
   "cell_type": "code",
   "execution_count": 26,
   "id": "3d878fc8",
   "metadata": {},
   "outputs": [
    {
     "data": {
      "text/plain": [
       "np.False_"
      ]
     },
     "execution_count": 26,
     "metadata": {},
     "output_type": "execute_result"
    }
   ],
   "source": [
    "#Looking for Missing Values in the dataset\n",
    "df.isnull().values.any()"
   ]
  },
  {
   "cell_type": "code",
   "execution_count": 20,
   "id": "e42cd6e5",
   "metadata": {},
   "outputs": [
    {
     "data": {
      "text/html": [
       "<div>\n",
       "<style scoped>\n",
       "    .dataframe tbody tr th:only-of-type {\n",
       "        vertical-align: middle;\n",
       "    }\n",
       "\n",
       "    .dataframe tbody tr th {\n",
       "        vertical-align: top;\n",
       "    }\n",
       "\n",
       "    .dataframe thead th {\n",
       "        text-align: right;\n",
       "    }\n",
       "</style>\n",
       "<table border=\"1\" class=\"dataframe\">\n",
       "  <thead>\n",
       "    <tr style=\"text-align: right;\">\n",
       "      <th></th>\n",
       "      <th>Product_ID</th>\n",
       "      <th>Category</th>\n",
       "      <th>Supplier</th>\n",
       "      <th>Warehouse_Location</th>\n",
       "      <th>Order_Date</th>\n",
       "      <th>Delivery_Date</th>\n",
       "      <th>Inventory_Level</th>\n",
       "      <th>Stockouts</th>\n",
       "      <th>Unit_Cost</th>\n",
       "      <th>Lead_Time</th>\n",
       "    </tr>\n",
       "  </thead>\n",
       "  <tbody>\n",
       "  </tbody>\n",
       "</table>\n",
       "</div>"
      ],
      "text/plain": [
       "Empty DataFrame\n",
       "Columns: [Product_ID, Category, Supplier, Warehouse_Location, Order_Date, Delivery_Date, Inventory_Level, Stockouts, Unit_Cost, Lead_Time]\n",
       "Index: []"
      ]
     },
     "execution_count": 20,
     "metadata": {},
     "output_type": "execute_result"
    }
   ],
   "source": [
    "## Checking if any Duplicate records\n",
    "df[df.duplicated()]"
   ]
  },
  {
   "cell_type": "code",
   "execution_count": null,
   "id": "d1048801",
   "metadata": {},
   "outputs": [
    {
     "name": "stdout",
     "output_type": "stream",
     "text": [
      "Categories: ['Toys' 'Furniture' 'Food' 'Clothing' 'Electronics']\n",
      "Suppliers: ['Supplier B' 'Supplier C' 'Supplier D' 'Supplier A']\n",
      "Warehouse Locations: ['Chicago' 'San Francisco' 'Dallas' 'New York']\n"
     ]
    }
   ],
   "source": [
    "# Getting list of unique categories\n",
    "categories = df['Category'].unique()\n",
    "\n",
    "# Getting list of unique suppliers\n",
    "suppliers = df['Supplier'].unique()\n",
    "\n",
    "# Getting list of unique warehouse locations\n",
    "warehouse_locations = df['Warehouse_Location'].unique()\n",
    "\n",
    "print(\"Categories:\", categories)\n",
    "print(\"Suppliers:\", suppliers)\n",
    "print(\"Warehouse Locations:\", warehouse_locations)"
   ]
  },
  {
   "cell_type": "code",
   "execution_count": null,
   "id": "4d5ce484",
   "metadata": {},
   "outputs": [
    {
     "name": "stdout",
     "output_type": "stream",
     "text": [
      "\n",
      " Invalid Dates : Empty DataFrame\n",
      "Columns: [Product_ID, Category, Supplier, Warehouse_Location, Order_Date, Delivery_Date, Inventory_Level, Stockouts, Unit_Cost, Lead_Time]\n",
      "Index: []\n"
     ]
    }
   ],
   "source": [
    "# Making sure delivery dates are logical (Delivery_Date > Order_Date)\n",
    "# Conclusion: Dates are logical!\n",
    "invalid_dates = df[df['Delivery_Date'] < df['Order_Date']]\n",
    "print(f\"\\n Invalid Dates : {invalid_dates}\")\n"
   ]
  },
  {
   "cell_type": "code",
   "execution_count": 34,
   "id": "3e406573",
   "metadata": {},
   "outputs": [
    {
     "name": "stdout",
     "output_type": "stream",
     "text": [
      "\n",
      "--- Lead Time Mismatches ---\n",
      "    Product_ID   Category    Supplier Warehouse_Location Order_Date  \\\n",
      "2        P0003  Furniture  Supplier B            Chicago 2025-01-22   \n",
      "5        P0006   Clothing  Supplier D           New York 2025-02-20   \n",
      "19       P0020       Food  Supplier B            Chicago 2025-03-24   \n",
      "21       P0022       Toys  Supplier D           New York 2025-03-02   \n",
      "24       P0025       Toys  Supplier D            Chicago 2025-03-24   \n",
      "..         ...        ...         ...                ...        ...   \n",
      "221      P0222       Toys  Supplier B             Dallas 2025-04-09   \n",
      "225      P0226  Furniture  Supplier D            Chicago 2025-03-05   \n",
      "235      P0236   Clothing  Supplier C           New York 2025-02-02   \n",
      "242      P0243       Food  Supplier A      San Francisco 2025-04-06   \n",
      "246      P0247   Clothing  Supplier C            Chicago 2025-04-09   \n",
      "\n",
      "    Delivery_Date  Inventory_Level  Stockouts  Unit_Cost  Lead_Time  \\\n",
      "2      2025-02-08              270          0     423.75         14   \n",
      "5      2025-03-13              223          0     407.72         17   \n",
      "19     2025-03-31              194          0     215.02          2   \n",
      "21     2025-03-16              359          0      23.81         11   \n",
      "24     2025-04-02              242          0     460.70          5   \n",
      "..            ...              ...        ...        ...        ...   \n",
      "221    2025-04-20              390          0     305.04          6   \n",
      "225    2025-03-18              154          0     136.44         11   \n",
      "235    2025-02-12              107          0     103.24          5   \n",
      "242    2025-04-18              343          0     165.84         11   \n",
      "246    2025-04-18               42          0     253.83          8   \n",
      "\n",
      "     Calculated_Lead_Time  \n",
      "2                      17  \n",
      "5                      21  \n",
      "19                      7  \n",
      "21                     14  \n",
      "24                      9  \n",
      "..                    ...  \n",
      "221                    11  \n",
      "225                    13  \n",
      "235                    10  \n",
      "242                    12  \n",
      "246                     9  \n",
      "\n",
      "[66 rows x 11 columns]\n"
     ]
    }
   ],
   "source": [
    "# Making sure Lead_Time Makes sense with Order_Date and Delivery_Date..\n",
    "# Definitely.. Lead Times are incorrect.\n",
    "df['Calculated_Lead_Time'] = (df['Delivery_Date'] - df['Order_Date']).dt.days\n",
    "lead_time_mismatches = df[df['Calculated_Lead_Time'] != df['Lead_Time']]\n",
    "print(\"\\n--- Lead Time Mismatches ---\")\n",
    "print(lead_time_mismatches)\n"
   ]
  },
  {
   "cell_type": "code",
   "execution_count": 33,
   "id": "ba9d29a9",
   "metadata": {},
   "outputs": [
    {
     "name": "stdout",
     "output_type": "stream",
     "text": [
      "\n",
      "--- Invalid Inventory/Stockouts ---\n",
      "Empty DataFrame\n",
      "Columns: [Product_ID, Category, Supplier, Warehouse_Location, Order_Date, Delivery_Date, Inventory_Level, Stockouts, Unit_Cost, Lead_Time, Calculated_Lead_Time]\n",
      "Index: []\n"
     ]
    }
   ],
   "source": [
    "# Checking if any negative values in Inventory Level and Stockouts..\n",
    "invalid_inventory = df[(df['Inventory_Level'] < 0) | (df['Stockouts'] < 0)]\n",
    "print(\"\\n--- Invalid Inventory/Stockouts ---\")\n",
    "print(invalid_inventory)\n"
   ]
  },
  {
   "cell_type": "markdown",
   "id": "334888ac",
   "metadata": {},
   "source": [
    "Calculating Average Delivery Lead_Time Per Supplier"
   ]
  },
  {
   "cell_type": "code",
   "execution_count": 45,
   "id": "99acf82a",
   "metadata": {},
   "outputs": [
    {
     "name": "stdout",
     "output_type": "stream",
     "text": [
      "\n",
      "Combined (Promised vs Actual) per Supplier:\n",
      "     Supplier  Avg_Promised_Lead_Time  Avg_Actual_Lead_Time\n",
      "0  Supplier A                   10.67                 11.40\n",
      "1  Supplier B                    9.02                  9.97\n",
      "2  Supplier C                    9.60                 10.08\n",
      "3  Supplier D                   10.82                 11.87\n"
     ]
    }
   ],
   "source": [
    "# Assuming the given Lead_Time in the Dataset is Promised by Supplier.\n",
    "# 1. Average PROMISED lead time per supplier\n",
    "avg_promised = (\n",
    "    df.groupby(\"Supplier\", as_index=False)[\"Lead_Time\"]\n",
    "      .mean()\n",
    "      .rename(columns={\"Lead_Time\": \"Avg_Promised_Lead_Time\"})\n",
    ")\n",
    "avg_promised[\"Avg_Promised_Lead_Time\"] = avg_promised[\"Avg_Promised_Lead_Time\"].round(2)\n",
    "\n",
    "# 2. Average ACTUAL (Calculated) lead time per supplier\n",
    "avg_actual = (\n",
    "    df.groupby(\"Supplier\", as_index=False)[\"Calculated_Lead_Time\"]\n",
    "      .mean()\n",
    "      .rename(columns={\"Calculated_Lead_Time\": \"Avg_Actual_Lead_Time\"})\n",
    ")\n",
    "avg_actual[\"Avg_Actual_Lead_Time\"] = avg_actual[\"Avg_Actual_Lead_Time\"].round(2)\n",
    "\n",
    "# Side-by-side combined table\n",
    "combined = avg_promised.merge(avg_actual, on=\"Supplier\")\n",
    "print(\"\\nCombined (Promised vs Actual) per Supplier:\")\n",
    "print(combined)"
   ]
  },
  {
   "cell_type": "markdown",
   "id": "d14f9b2b",
   "metadata": {},
   "source": [
    "Calculating Percentage of late deliveries by category"
   ]
  },
  {
   "cell_type": "code",
   "execution_count": 47,
   "id": "ecc5fc93",
   "metadata": {},
   "outputs": [
    {
     "name": "stdout",
     "output_type": "stream",
     "text": [
      "Category\n",
      "Clothing       15.09\n",
      "Electronics    24.49\n",
      "Food           39.22\n",
      "Furniture      27.08\n",
      "Toys           26.53\n",
      "Name: Is_Late, dtype: float64\n"
     ]
    }
   ],
   "source": [
    "# Marking late deliveries (1 if late, 0 if not)\n",
    "df[\"Is_Late\"] = (df[\"Calculated_Lead_Time\"] > df[\"Lead_Time\"]).astype(int)\n",
    "\n",
    "# % late deliveries by category\n",
    "late_deliveries = (df.groupby(\"Category\")[\"Is_Late\"].mean() * 100).round(2)\n",
    "\n",
    "print(late_deliveries)"
   ]
  },
  {
   "cell_type": "code",
   "execution_count": 51,
   "id": "85a02c4d",
   "metadata": {},
   "outputs": [
    {
     "name": "stdout",
     "output_type": "stream",
     "text": [
      "\n",
      "% of Late Deliveries by Supplier:\n",
      "     Supplier  Late_Delivery_%\n",
      "0  Supplier A            27.59\n",
      "1  Supplier B            29.23\n",
      "2  Supplier C            16.92\n",
      "3  Supplier D            32.26\n"
     ]
    }
   ],
   "source": [
    "# % of late deliveries by supplier.\n",
    "\n",
    "late_by_supplier = (\n",
    "    df.groupby(\"Supplier\")[\"Is_Late\"]\n",
    "      .mean()\n",
    "      .reset_index()\n",
    "      .rename(columns={\"Is_Late\": \"Late_Delivery_%\"})\n",
    ")\n",
    "late_by_supplier[\"Late_Delivery_%\"] = (late_by_supplier[\"Late_Delivery_%\"] * 100).round(2)\n",
    "\n",
    "print(\"\\n% of Late Deliveries by Supplier:\")\n",
    "print(late_by_supplier)"
   ]
  },
  {
   "cell_type": "markdown",
   "id": "80299ef0",
   "metadata": {},
   "source": [
    "Calculating Stockout Frequency per Warehouse"
   ]
  },
  {
   "cell_type": "code",
   "execution_count": 53,
   "id": "f9dd37d3",
   "metadata": {},
   "outputs": [
    {
     "name": "stdout",
     "output_type": "stream",
     "text": [
      "  Warehouse_Location  Stockout_Frequency\n",
      "0            Chicago                   7\n",
      "1             Dallas                  15\n",
      "2           New York                  11\n",
      "3      San Francisco                  14\n"
     ]
    }
   ],
   "source": [
    "# Stockout frequency = how many times stockouts happened (>0) in each warehouse\n",
    "stockout_freq = (\n",
    "    df.groupby(\"Warehouse_Location\")[\"Stockouts\"]\n",
    "      .apply(lambda x: (x > 0).sum()) \n",
    "      .reset_index(name=\"Stockout_Frequency\")\n",
    ")\n",
    "\n",
    "print(stockout_freq)\n"
   ]
  },
  {
   "cell_type": "markdown",
   "id": "d03fa8e3",
   "metadata": {},
   "source": [
    "## TASK 2: Analysis and KPIs"
   ]
  },
  {
   "cell_type": "markdown",
   "id": "ae625667",
   "metadata": {},
   "source": [
    "Calculating ROP\n"
   ]
  },
  {
   "cell_type": "code",
   "execution_count": 55,
   "id": "84311063",
   "metadata": {},
   "outputs": [],
   "source": [
    "# Reorder Point (ROP): ROP = (Average Daily Usage x Lead Time) + Safety Stock\n",
    "\n",
    "# Since Average Daily usage and safety stock column is missing\n",
    "# I'm assuming Daily usage as average of inventory level per month.\n",
    "\n",
    "df[\"Avg_Daily_Usage\"] = df[\"Inventory_Level\"] / 30  \n",
    "\n",
    "# Assuming Safety Stock = 20% of Avg_Daily_Usage\n",
    "df[\"Safety_Stock\"] = df[\"Avg_Daily_Usage\"] * 0.2  \n",
    "\n",
    "# ROP calculation\n",
    "df[\"ROP\"] = (df[\"Avg_Daily_Usage\"] * df[\"Lead_Time\"]) + df[\"Safety_Stock\"]"
   ]
  },
  {
   "cell_type": "code",
   "execution_count": 56,
   "id": "702a3413",
   "metadata": {},
   "outputs": [
    {
     "data": {
      "text/html": [
       "<div>\n",
       "<style scoped>\n",
       "    .dataframe tbody tr th:only-of-type {\n",
       "        vertical-align: middle;\n",
       "    }\n",
       "\n",
       "    .dataframe tbody tr th {\n",
       "        vertical-align: top;\n",
       "    }\n",
       "\n",
       "    .dataframe thead th {\n",
       "        text-align: right;\n",
       "    }\n",
       "</style>\n",
       "<table border=\"1\" class=\"dataframe\">\n",
       "  <thead>\n",
       "    <tr style=\"text-align: right;\">\n",
       "      <th></th>\n",
       "      <th>Product_ID</th>\n",
       "      <th>Category</th>\n",
       "      <th>Supplier</th>\n",
       "      <th>Warehouse_Location</th>\n",
       "      <th>Order_Date</th>\n",
       "      <th>Delivery_Date</th>\n",
       "      <th>Inventory_Level</th>\n",
       "      <th>Stockouts</th>\n",
       "      <th>Unit_Cost</th>\n",
       "      <th>Lead_Time</th>\n",
       "      <th>Calculated_Lead_Time</th>\n",
       "      <th>Is_Late</th>\n",
       "      <th>Avg_Daily_Usage</th>\n",
       "      <th>Safety_Stock</th>\n",
       "      <th>ROP</th>\n",
       "    </tr>\n",
       "  </thead>\n",
       "  <tbody>\n",
       "    <tr>\n",
       "      <th>0</th>\n",
       "      <td>P0001</td>\n",
       "      <td>Toys</td>\n",
       "      <td>Supplier B</td>\n",
       "      <td>Chicago</td>\n",
       "      <td>2025-02-23</td>\n",
       "      <td>2025-03-01</td>\n",
       "      <td>15</td>\n",
       "      <td>0</td>\n",
       "      <td>446.20</td>\n",
       "      <td>6</td>\n",
       "      <td>6</td>\n",
       "      <td>0</td>\n",
       "      <td>0.5</td>\n",
       "      <td>0.10</td>\n",
       "      <td>3.10</td>\n",
       "    </tr>\n",
       "    <tr>\n",
       "      <th>1</th>\n",
       "      <td>P0002</td>\n",
       "      <td>Furniture</td>\n",
       "      <td>Supplier C</td>\n",
       "      <td>San Francisco</td>\n",
       "      <td>2025-02-25</td>\n",
       "      <td>2025-03-15</td>\n",
       "      <td>138</td>\n",
       "      <td>0</td>\n",
       "      <td>208.02</td>\n",
       "      <td>18</td>\n",
       "      <td>18</td>\n",
       "      <td>0</td>\n",
       "      <td>4.6</td>\n",
       "      <td>0.92</td>\n",
       "      <td>83.72</td>\n",
       "    </tr>\n",
       "  </tbody>\n",
       "</table>\n",
       "</div>"
      ],
      "text/plain": [
       "  Product_ID   Category    Supplier Warehouse_Location Order_Date  \\\n",
       "0      P0001       Toys  Supplier B            Chicago 2025-02-23   \n",
       "1      P0002  Furniture  Supplier C      San Francisco 2025-02-25   \n",
       "\n",
       "  Delivery_Date  Inventory_Level  Stockouts  Unit_Cost  Lead_Time  \\\n",
       "0    2025-03-01               15          0     446.20          6   \n",
       "1    2025-03-15              138          0     208.02         18   \n",
       "\n",
       "   Calculated_Lead_Time  Is_Late  Avg_Daily_Usage  Safety_Stock    ROP  \n",
       "0                     6        0              0.5          0.10   3.10  \n",
       "1                    18        0              4.6          0.92  83.72  "
      ]
     },
     "execution_count": 56,
     "metadata": {},
     "output_type": "execute_result"
    }
   ],
   "source": [
    "df.head(2)"
   ]
  },
  {
   "cell_type": "markdown",
   "id": "81a65f58",
   "metadata": {},
   "source": [
    "TOP Suppliers in DESC order who has Highest late delivery rate.\n"
   ]
  },
  {
   "cell_type": "code",
   "execution_count": 61,
   "id": "804ac2f6",
   "metadata": {},
   "outputs": [
    {
     "name": "stdout",
     "output_type": "stream",
     "text": [
      "\n",
      "Top 5 Suppliers with Highest Late Delivery Rates:\n",
      "  Supplier  Late_Delivery_%\n",
      "Supplier D        32.258065\n",
      "Supplier B        29.230769\n",
      "Supplier A        27.586207\n",
      "Supplier C        16.923077\n"
     ]
    }
   ],
   "source": [
    "late_by_supplier = (\n",
    "    df.groupby(\"Supplier\")[\"Is_Late\"]\n",
    "      .mean()\n",
    "      .mul(100)\n",
    "      .reset_index(name=\"Late_Delivery_%\")\n",
    "      .sort_values(\"Late_Delivery_%\", ascending=False)\n",
    ")\n",
    "\n",
    "top_late_suppliers = late_by_supplier.head(5)\n",
    "print(\"\\nTop 5 Suppliers with Highest Late Delivery Rates:\")\n",
    "print(top_late_suppliers.to_string(index=False))"
   ]
  },
  {
   "cell_type": "markdown",
   "id": "c79e17ba",
   "metadata": {},
   "source": [
    "Calculating cost savings if lead times are improved by 10%"
   ]
  },
  {
   "cell_type": "code",
   "execution_count": 63,
   "id": "541200e3",
   "metadata": {},
   "outputs": [
    {
     "name": "stdout",
     "output_type": "stream",
     "text": [
      "\n",
      "Estimated Total Cost Savings if Lead Times Improve by 10%: $545,519.70\n"
     ]
    }
   ],
   "source": [
    "# if lead time is improving by 10% then obviously we hold less inventory.\n",
    "# which will bringdown inventory cost and save money.\n",
    "\n",
    "# ROP if Lead Time improves by 10%\n",
    "df[\"Lead_Time_Improved\"] = df[\"Lead_Time\"] * 0.9\n",
    "df[\"ROP_Improved\"] = (df[\"Avg_Daily_Usage\"] * df[\"Lead_Time_Improved\"]) + df[\"Safety_Stock\"]\n",
    "\n",
    "# Savings in units\n",
    "df[\"ROP_Saving_Units\"] = df[\"ROP\"] - df[\"ROP_Improved\"]\n",
    "\n",
    "# Savings in cost (units * Unit Cost)\n",
    "df[\"ROP_Saving_Cost\"] = df[\"ROP_Saving_Units\"] * df[\"Unit_Cost\"]\n",
    "\n",
    "# Total Savings\n",
    "total_saving = df[\"ROP_Saving_Cost\"].sum()\n",
    "\n",
    "print(f\"\\nEstimated Total Cost Savings if Lead Times Improve by 10%: ${total_saving:,.2f}\")"
   ]
  },
  {
   "cell_type": "code",
   "execution_count": 73,
   "id": "2dac67dd",
   "metadata": {},
   "outputs": [
    {
     "data": {
      "text/html": [
       "<div>\n",
       "<style scoped>\n",
       "    .dataframe tbody tr th:only-of-type {\n",
       "        vertical-align: middle;\n",
       "    }\n",
       "\n",
       "    .dataframe tbody tr th {\n",
       "        vertical-align: top;\n",
       "    }\n",
       "\n",
       "    .dataframe thead th {\n",
       "        text-align: right;\n",
       "    }\n",
       "</style>\n",
       "<table border=\"1\" class=\"dataframe\">\n",
       "  <thead>\n",
       "    <tr style=\"text-align: right;\">\n",
       "      <th></th>\n",
       "      <th>Product_ID</th>\n",
       "      <th>Category</th>\n",
       "      <th>Supplier</th>\n",
       "      <th>Warehouse_Location</th>\n",
       "      <th>Order_Date</th>\n",
       "      <th>Delivery_Date</th>\n",
       "      <th>Inventory_Level</th>\n",
       "      <th>Stockouts</th>\n",
       "      <th>Unit_Cost</th>\n",
       "      <th>Lead_Time</th>\n",
       "      <th>Calculated_Lead_Time</th>\n",
       "      <th>Is_Late</th>\n",
       "      <th>Avg_Daily_Usage</th>\n",
       "      <th>Safety_Stock</th>\n",
       "      <th>ROP</th>\n",
       "      <th>Lead_Time_Improved</th>\n",
       "      <th>ROP_Improved</th>\n",
       "      <th>ROP_Saving_Units</th>\n",
       "      <th>ROP_Saving_Cost</th>\n",
       "    </tr>\n",
       "  </thead>\n",
       "  <tbody>\n",
       "    <tr>\n",
       "      <th>0</th>\n",
       "      <td>P0001</td>\n",
       "      <td>Toys</td>\n",
       "      <td>Supplier B</td>\n",
       "      <td>Chicago</td>\n",
       "      <td>2025-02-23</td>\n",
       "      <td>2025-03-01</td>\n",
       "      <td>15</td>\n",
       "      <td>0</td>\n",
       "      <td>446.20</td>\n",
       "      <td>6</td>\n",
       "      <td>6</td>\n",
       "      <td>0</td>\n",
       "      <td>0.5</td>\n",
       "      <td>0.10</td>\n",
       "      <td>3.10</td>\n",
       "      <td>5.4</td>\n",
       "      <td>2.80</td>\n",
       "      <td>0.30</td>\n",
       "      <td>133.86</td>\n",
       "    </tr>\n",
       "    <tr>\n",
       "      <th>1</th>\n",
       "      <td>P0002</td>\n",
       "      <td>Furniture</td>\n",
       "      <td>Supplier C</td>\n",
       "      <td>San Francisco</td>\n",
       "      <td>2025-02-25</td>\n",
       "      <td>2025-03-15</td>\n",
       "      <td>138</td>\n",
       "      <td>0</td>\n",
       "      <td>208.02</td>\n",
       "      <td>18</td>\n",
       "      <td>18</td>\n",
       "      <td>0</td>\n",
       "      <td>4.6</td>\n",
       "      <td>0.92</td>\n",
       "      <td>83.72</td>\n",
       "      <td>16.2</td>\n",
       "      <td>75.44</td>\n",
       "      <td>8.28</td>\n",
       "      <td>1722.41</td>\n",
       "    </tr>\n",
       "  </tbody>\n",
       "</table>\n",
       "</div>"
      ],
      "text/plain": [
       "  Product_ID   Category    Supplier Warehouse_Location Order_Date  \\\n",
       "0      P0001       Toys  Supplier B            Chicago 2025-02-23   \n",
       "1      P0002  Furniture  Supplier C      San Francisco 2025-02-25   \n",
       "\n",
       "  Delivery_Date  Inventory_Level  Stockouts  Unit_Cost  Lead_Time  \\\n",
       "0    2025-03-01               15          0     446.20          6   \n",
       "1    2025-03-15              138          0     208.02         18   \n",
       "\n",
       "   Calculated_Lead_Time  Is_Late  Avg_Daily_Usage  Safety_Stock    ROP  \\\n",
       "0                     6        0              0.5          0.10   3.10   \n",
       "1                    18        0              4.6          0.92  83.72   \n",
       "\n",
       "   Lead_Time_Improved  ROP_Improved  ROP_Saving_Units  ROP_Saving_Cost  \n",
       "0                 5.4          2.80              0.30           133.86  \n",
       "1                16.2         75.44              8.28          1722.41  "
      ]
     },
     "execution_count": 73,
     "metadata": {},
     "output_type": "execute_result"
    }
   ],
   "source": [
    "df.head(2)"
   ]
  },
  {
   "cell_type": "code",
   "execution_count": null,
   "id": "e71c7774",
   "metadata": {},
   "outputs": [],
   "source": [
    "df = df.round({\n",
    "    \"Avg_Daily_Usage\": 2,\n",
    "    \"Safety_Stock\": 2,\n",
    "    \"ROP\": 2,\n",
    "    \"Lead_Time_Improved\": 2,\n",
    "    \"ROP_Improved\": 2,\n",
    "    \"ROP_Saving_Units\": 2,\n",
    "    \"ROP_Saving_Cost\": 2\n",
    "})\n",
    "# Rounding off the above columns by 2"
   ]
  },
  {
   "cell_type": "code",
   "execution_count": null,
   "id": "1335afa3",
   "metadata": {},
   "outputs": [],
   "source": [
    "df.to_csv('cleaned.csv', index=False)"
   ]
  },
  {
   "cell_type": "markdown",
   "id": "122c8779",
   "metadata": {},
   "source": [
    "## TASK 3: Visualization"
   ]
  },
  {
   "cell_type": "markdown",
   "id": "444a19ef",
   "metadata": {},
   "source": [
    "Delivery performance by supplier"
   ]
  },
  {
   "cell_type": "code",
   "execution_count": 91,
   "id": "95983ed7",
   "metadata": {},
   "outputs": [
    {
     "data": {
      "image/png": "[encoded data removed]",
      "text/plain": [
       "<Figure size 1000x500 with 1 Axes>"
      ]
     },
     "metadata": {},
     "output_type": "display_data"
    }
   ],
   "source": [
    "import matplotlib.pyplot as plt\n",
    "import seaborn as sns\n",
    "\n",
    "plt.figure(figsize=(10, 5))\n",
    "sns.barplot(\n",
    "    data=late_by_supplier.sort_values(\"Late_Delivery_%\", ascending=False),\n",
    "    x=\"Supplier\", y=\"Late_Delivery_%\", palette=\"Reds_r\", hue= \"Supplier\", legend=False\n",
    ")\n",
    "plt.title(\"Late Delivery Percentage by Supplier\")\n",
    "plt.ylabel(\"Late Delivery (%)\")\n",
    "plt.xticks(rotation=45)\n",
    "plt.tight_layout()\n",
    "plt.show()\n",
    "\n",
    "# Supplier D has highest late delivery percentage when compared to others."
   ]
  },
  {
   "cell_type": "markdown",
   "id": "4321104c",
   "metadata": {},
   "source": [
    "Creating Heat-Map to check Delivery Performance by warehouse and supplier."
   ]
  },
  {
   "cell_type": "code",
   "execution_count": 92,
   "id": "2cbd3b29",
   "metadata": {},
   "outputs": [
    {
     "data": {
      "image/png": "[encoded data removed]",
      "text/plain": [
       "<Figure size 1000x600 with 2 Axes>"
      ]
     },
     "metadata": {},
     "output_type": "display_data"
    }
   ],
   "source": [
    "# Creating Heat-Map to check Delivery Performance by warehouse and supplier.\n",
    "pivot = (\n",
    "    df.groupby(['Warehouse_Location', 'Supplier'])['Is_Late']\n",
    "      .mean()\n",
    "      .mul(100)\n",
    "      .reset_index()\n",
    "      .pivot(index='Warehouse_Location', columns='Supplier', values='Is_Late')\n",
    ")\n",
    "\n",
    "plt.figure(figsize=(10, 6))\n",
    "sns.heatmap(pivot, annot=True, fmt=\".1f\", cmap=\"Reds\")\n",
    "plt.title(\"Late Delivery Percentage by Warehouse & Supplier\")\n",
    "plt.ylabel(\"Warehouse Location\")\n",
    "plt.xlabel(\"Supplier\")\n",
    "plt.tight_layout()\n",
    "plt.show()\n",
    "\n",
    "# CONCLUSION:\n",
    "# Darker cell 53.8 indicate Supplier D has more late deliveries at Dallas.\n",
    "# Supplier D can review shipping routes to optimise delivery delays.\n",
    "# Increase Safety stock and identify bottlenecks.\n",
    "# Set up regular monitoring of Dallas warehouse."
   ]
  },
  {
   "cell_type": "markdown",
   "id": "692d2067",
   "metadata": {},
   "source": [
    "Inventory levels vs. reorder points"
   ]
  },
  {
   "cell_type": "code",
   "execution_count": null,
   "id": "7cfe2ae9",
   "metadata": {},
   "outputs": [
    {
     "data": {
      "image/png": "[encoded data removed]",
      "text/plain": [
       "<Figure size 1000x500 with 1 Axes>"
      ]
     },
     "metadata": {},
     "output_type": "display_data"
    }
   ],
   "source": [
    "plt.figure(figsize=(10, 5))\n",
    "sns.scatterplot(\n",
    "    data=df, x=\"Inventory_Level\", y=\"ROP\", hue=\"Category\", alpha=0.7\n",
    ")\n",
    "\n",
    "#Adding Trend line.\n",
    "sns.regplot(data=df, x=\"Inventory_Level\", y=\"ROP\",\n",
    "            scatter=False, ci=None, color=\"black\", line_kws={\"linewidth\":2})\n",
    "\n",
    "plt.title(\"Inventory Levels vs. Reorder Points\")\n",
    "plt.xlabel(\"Inventory Level\")\n",
    "plt.ylabel(\"Reorder Point (ROP)\")\n",
    "plt.legend(title=\"Category\", bbox_to_anchor=(1.05, 1), loc='upper left')\n",
    "plt.tight_layout()\n",
    "plt.show()\n",
    "\n",
    "# Conclusion from the Scatter Plot:\n",
    "# Points below the trendline indicate risk of stockouts.\n",
    "# points far above the trendline indicate overstocking (which will increase holding cost)\n",
    "# we have to make sure that most of the points are close to the trendline. \n",
    "# Regularly update the ROP calculations based on demand and lead time and adjust inventory levels accordingly."
   ]
  },
  {
   "cell_type": "markdown",
   "id": "cea8c506",
   "metadata": {},
   "source": [
    "Cost impact of delivery delays"
   ]
  },
  {
   "cell_type": "code",
   "execution_count": 88,
   "id": "51a83f5b",
   "metadata": {},
   "outputs": [
    {
     "data": {
      "image/png": "[encoded data removed]",
      "text/plain": [
       "<Figure size 1000x500 with 1 Axes>"
      ]
     },
     "metadata": {},
     "output_type": "display_data"
    }
   ],
   "source": [
    "# Cost impact of delivery delays using the original ROP (before improvement)\n",
    "import matplotlib.pyplot as plt\n",
    "import seaborn as sns\n",
    "\n",
    "plt.figure(figsize=(10, 5))\n",
    "sns.barplot(\n",
    "    data=df.groupby(\"Supplier\")[\"ROP\"].sum().reset_index().sort_values(\"ROP\", ascending=False),\n",
    "    x=\"Supplier\", y=\"ROP\", palette=\"Oranges\",hue=\"Supplier\", legend= False\n",
    ")\n",
    "plt.title(\"Total Reorder Point (ROP) per Supplier (Old ROP)\")\n",
    "plt.ylabel(\"Total ROP (Units)\")\n",
    "plt.xticks(rotation=45)\n",
    "plt.tight_layout()\n",
    "plt.show();\n",
    "\n",
    "# Conclusions from the PLOT:\n",
    "# Supplier C has Highest Reorder point (More inventory with the supplier)\n",
    "# We can negotiate shorter lead times with Supplier C, A and B.\n",
    "# "
   ]
  },
  {
   "cell_type": "markdown",
   "id": "7071bd5d",
   "metadata": {},
   "source": [
    "Cost impact after lead times improve by 10%"
   ]
  },
  {
   "cell_type": "code",
   "execution_count": 86,
   "id": "3905374b",
   "metadata": {},
   "outputs": [
    {
     "data": {
      "image/png": "[encoded data removed]",
      "text/plain": [
       "<Figure size 1000x500 with 1 Axes>"
      ]
     },
     "metadata": {},
     "output_type": "display_data"
    }
   ],
   "source": [
    "# Cost impact after lead times improve by 10%\n",
    "\n",
    "plt.figure(figsize=(10, 5))\n",
    "sns.barplot(\n",
    "    data=df.groupby(\"Supplier\")[\"ROP_Saving_Cost\"].sum().reset_index().sort_values(\"ROP_Saving_Cost\", ascending=False),\n",
    "    x=\"Supplier\", y=\"ROP_Saving_Cost\", hue=\"Supplier\", palette=\"Blues\", legend=False\n",
    ")\n",
    "plt.title(\"Estimated Cost Savings if Lead Times Improve by 10% (per Supplier)\")\n",
    "plt.ylabel(\"Cost Savings ($)\")\n",
    "plt.xticks(rotation=45)\n",
    "plt.tight_layout()\n",
    "plt.show();\n",
    "\n",
    "# Supplier C has highest cost savings if Lead times are improved by 10%\n",
    "# Supplier A and B also have saving potential.\n",
    "# Definitely all the suppliers show significant improvement in the inventory cost savings."
   ]
  }
 ],
 "metadata": {
  "kernelspec": {
   "display_name": "Python 3",
   "language": "python",
   "name": "python3"
  },
  "language_info": {
   "codemirror_mode": {
    "name": "ipython",
    "version": 3
   },
   "file_extension": ".py",
   "mimetype": "text/x-python",
   "name": "python",
   "nbconvert_exporter": "python",
   "pygments_lexer": "ipython3",
   "version": "3.12.0"
  }
 },
 "nbformat": 4,
 "nbformat_minor": 5
}
